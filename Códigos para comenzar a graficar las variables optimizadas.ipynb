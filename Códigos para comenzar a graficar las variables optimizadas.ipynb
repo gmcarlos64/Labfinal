{
 "cells": [
  {
   "cell_type": "markdown",
   "metadata": {},
   "source": [
    "Grafica en tiempo real con matplotlib"
   ]
  },
  {
   "cell_type": "code",
   "execution_count": null,
   "metadata": {
    "collapsed": true
   },
   "outputs": [],
   "source": [
    "import matplotlib.pyplot as plt\n",
    "import matplotlib.animation as animation\n",
    "import numpy as np\n",
    "# Incrementa o disminuye el valor para modifcar\n",
    "# la duracion de la animacion.\n",
    "COUNT\n",
    "# La primer variable es el objecto de la figura,\n",
    "# y la segunda contiene la informacion para\n",
    "# dibujar la grafica.\n",
    "fig, ax = plt.subplots()\n",
    "# Contiene la informacion de los datos que se\n",
    "# van a graficar. En este caso se inicializa\n",
    "# con ningun valor, ya que seran agregados mas\n",
    "# adelante.\n",
    "line, = ax.plot([], [])\n",
    "# Las limites de la grafica: apareceran todos\n",
    "# los valores menos a 1.5 y mayores a -1.5\n",
    "# en el eje Y.\n",
    "ax.set_ylim([-1.5, 1.5])\n",
    "# Lo mismo, pero para el eje X. Los valores\n",
    "# van desde 0 a la variable COUNT.\n",
    "ax.set_xlim(0, COUNT)\n",
    "# En estas listas se agrega la informacion\n",
    "# del eje X.\n",
    "xdata = []\n",
    "# En esta, la informacion del eje Y.\n",
    "ydata = []\n",
    "def update(i):\n",
    "\n",
    "# La variable i solo representa el numero del cuadro de animacion.\n",
    "# En este caso es utilizado como tiempo de animacion. Por esto se\n",
    "# agrega al eje X.\n",
    "xdata.append(i)\n",
    "\n",
    "# La variable y representa el eje y. En este caso estamos graficando una señal\n",
    "# senoidal. Podemos cambiarla por datos aleatorios, por ejemplo. Descomenta\n",
    "# la siguiente linea, y comenta la senoidal para cambiar la forma de la señal.\n",
    "# y = np.random.random()\n",
    "y = np.sin(i / 10.)\n",
    "\n",
    "# Incluirlo al vector de datos.\n",
    "ydata.append(y)\n",
    "\n",
    "# Agregarlo a la linea para que sea actualizada por la libreria matplotlib.\n",
    "line.set_data(xdata, ydata)\n",
    "\n",
    "# Se regresan todas las variables de la grafica que fueron modificadas\n",
    "# para que sean redibujadas.\n",
    "return line,"
   ]
  },
  {
   "cell_type": "markdown",
   "metadata": {},
   "source": [
    "Con este código se puede graficar de manera visual el comportamiento de cualquier activo o\n",
    "función que deseemos, más sin embargo no explica cómo podríamos graficar en 4 dimensiones\n",
    "para poder visualizarlo, a continuación, se muestra el código para lograrlo, solo tenemos que\n",
    "agregar el número de variables deseadas en nuestro caso 4, y agregar las variables ya optimizadas:"
   ]
  },
  {
   "cell_type": "code",
   "execution_count": null,
   "metadata": {
    "collapsed": true
   },
   "outputs": [],
   "source": [
    "import matplotlib.pyplot as plt\n",
    "from mpl_toolkits.mplot3d.axes3d import Axes3D, get_test_data\n",
    "from matplotlib import cm\n",
    "# Figura\n",
    "fig = plt.figure()\n",
    "# Tomo el eje actual y defino una proyección 3D\n",
    "ax = gca(projection=&#39;3d&#39;)\n",
    "\n",
    "# Dibujo 3D\n",
    "X = np.arange(-5, 5, 0.25)\n",
    "Y = np.arange(-5, 5, 0.25)\n",
    "# el metodo meshgrid devuelve una matriz de coordenadas\n",
    "# a partir de vectores de coordendas, que usamos para\n",
    "# los datos del eje Z\n",
    "X, Y = np.meshgrid(X, Y)\n",
    "R = np.sqrt(X**2 + Y**2)\n",
    "Z = np.sin(R)\n",
    "# Grafico surface en 3D\n",
    "surface = ax.plot_surface(X, Y, Z, rstride=1, cstride=1,\n",
    "cmap=cm.coolwarm, linewidth=0, antialiased=False)\n",
    "# Límites del eje Z\n",
    "ax.set_zlim(-1.01, 1.01)\n",
    "# Barra de nivel, un poco más pequeña\n",
    "fig.colorbar(surf, shrink=0.5, aspect=10)\n",
    "\n",
    "#Si queremos hacer lo mismo con una imagen, debemos crear igualmente las matrices de\n",
    "#coordenadas X e Y para cada pixel de la imagen.\n",
    "         \n",
    "xx, yy = np.mgrid[0:seleccion.shape[0], 0:seleccion.shape[1]]\n",
    "ax.plot_surface(xx, yy, seleccion ,rstride=1, cstride=1,\n",
    "cmap=plt.cm.gray, linewidth=0)"
   ]
  }
 ],
 "metadata": {
  "anaconda-cloud": {},
  "kernelspec": {
   "display_name": "Python [Anaconda3]",
   "language": "python",
   "name": "Python [Anaconda3]"
  },
  "language_info": {
   "codemirror_mode": {
    "name": "ipython",
    "version": 3
   },
   "file_extension": ".py",
   "mimetype": "text/x-python",
   "name": "python",
   "nbconvert_exporter": "python",
   "pygments_lexer": "ipython3",
   "version": "3.5.2"
  }
 },
 "nbformat": 4,
 "nbformat_minor": 0
}
