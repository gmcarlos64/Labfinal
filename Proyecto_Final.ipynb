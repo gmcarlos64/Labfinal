{
 "cells": [
  {
   "cell_type": "markdown",
   "metadata": {},
   "source": [
    "Proyecto Final de Trading\n",
    "\n",
    "Iteso \n",
    "\n",
    "Arturo Ruiz\n",
    "\n",
    "Juan Carlos Gonzalez\n",
    "\n"
   ]
  },
  {
   "cell_type": "code",
   "execution_count": null,
   "metadata": {
    "collapsed": false
   },
   "outputs": [],
   "source": [
    "%matplotlib inline\n",
    "import pandas as pd\n",
    "import numpy as np\n",
    "import matplotlib.pyplot as plt\n",
    "from oandapyV20 import API\n",
    "import oandapyV20.endpoints.instruments as instruments\n",
    "import datetime"
   ]
  },
  {
   "cell_type": "code",
   "execution_count": null,
   "metadata": {
    "collapsed": true
   },
   "outputs": [],
   "source": [
    "#Laboratorio 4 continuación\n",
    "def get_prices(date):\n",
    "    A1_OA_Da = 16                     # Day Align\n",
    "    A1_OA_Ta = \"America/Mexico_City\"  # Time Align\n",
    "    A1_OA_At = \"practice\"             # Tipo de cuenta\n",
    "    A1_OA_In = \"USD_MXN\"              # Instrumento\n",
    "    A1_OA_Gn = \"M5\"                   # Granularidad de velas\n",
    "    A1_OA_Ak = \"ee37e0cfccd3a6d2f842f120aaab81a4-3d14f03cc84eb3fd3fcb14ec3f999fec\"\n",
    "    ##obtener el spot\n",
    "    a=datetime.datetime.strptime(date,\"%m/%d/%Y %H:%M\")\n",
    "    today = a\n",
    "    DD = datetime.timedelta(minutes=55)\n",
    "    earlier = today - DD\n",
    "    later = today + DD\n",
    "    F1=later.strftime(\"%Y-%m-%dT%H:%M:%SZ\")\n",
    "    F2=earlier.strftime(\"%Y-%m-%dT%H:%M:%SZ\")\n",
    "    api = API(access_token=A1_OA_Ak)\n",
    "    params = {\"granularity\": A1_OA_Gn, \"price\": \"M\", \"dailyAlignment\": A1_OA_Da,\n",
    "              \"alignmentTimezone\": A1_OA_Ta, \"from\": F2, \"to\": F1}\n",
    "    A1_Req1 = instruments.InstrumentsCandles(instrument=A1_OA_In, params=params)\n",
    "    A1_Hist = api.request(A1_Req1)\n",
    "    a=list(map(lambda i:[A1_Hist['candles'][i]['time'],float(A1_Hist['candles'][i]['mid']['o']),float(A1_Hist['candles'][i]['mid']['h']),\n",
    "                          float(A1_Hist['candles'][i]['mid']['l']),float(A1_Hist['candles'][i]['mid']['c'])],range(len(A1_Hist['candles']))))\n",
    "    pd_hist = pd.DataFrame(a,columns=['TimeStamp','Open','High','Low','Close'])\n",
    "    pd_hist = pd_hist[['TimeStamp', 'Open', 'High', 'Low', 'Close']]\n",
    "    pd_hist['TimeStamp'] = pd.to_datetime(pd_hist['TimeStamp'])\n",
    "    \n",
    "    return pd_hist "
   ]
  },
  {
   "cell_type": "code",
   "execution_count": null,
   "metadata": {
    "collapsed": true
   },
   "outputs": [],
   "source": [
    "data=pd.read_csv('data.csv')"
   ]
  },
  {
   "cell_type": "code",
   "execution_count": null,
   "metadata": {
    "collapsed": true
   },
   "outputs": [],
   "source": [
    "a=data.loc[[a and b for a,b in zip(data.Actual>=data.Consensus,data.Consensus>=data.Previous)]]\n",
    "b=data.loc[[a and b for a,b in zip(data.Actual>=data.Consensus,data.Consensus<data.Previous)]]\n",
    "c=data.loc[[a and b for a,b in zip(data.Actual<data.Consensus,data.Consensus>=data.Previous)]]\n",
    "d=data.loc[[a and b for a,b in zip(data.Actual<=data.Consensus,data.Consensus<data.Previous)]]\n",
    "data['a']=[a and b for a,b in zip(data.Actual>=data.Consensus,data.Consensus>=data.Previous)]\n",
    "data['b']=[a and b for a,b in zip(data.Actual>=data.Consensus,data.Consensus<data.Previous)]\n",
    "data['c']=[a and b for a,b in zip(data.Actual<data.Consensus,data.Consensus>=data.Previous)]\n",
    "data['d']=[a and b for a,b in zip(data.Actual<=data.Consensus,data.Consensus<data.Previous)]\n"
   ]
  },
  {
   "cell_type": "code",
   "execution_count": null,
   "metadata": {
    "collapsed": true
   },
   "outputs": [],
   "source": [
    "# direcciones de los movimientos"
   ]
  },
  {
   "cell_type": "code",
   "execution_count": null,
   "metadata": {
    "collapsed": true
   },
   "outputs": [],
   "source": [
    "week_days=list(map(lambda x:datetime.datetime.weekday(datetime.datetime.strptime(data.DateTime[x],\"%m/%d/%Y %H:%M\")),range(len(data))))"
   ]
  },
  {
   "cell_type": "code",
   "execution_count": null,
   "metadata": {
    "collapsed": true
   },
   "outputs": [],
   "source": [
    "temp=list(map(lambda x:get_prices(data.DateTime[x]),range(len(data))))"
   ]
  },
  {
   "cell_type": "code",
   "execution_count": null,
   "metadata": {
    "collapsed": true
   },
   "outputs": [],
   "source": [
    "c1_direction=list(map(lambda x:temp[x].loc[21].Close-temp[x].loc[11].Open,range(len(temp))))"
   ]
  },
  {
   "cell_type": "code",
   "execution_count": null,
   "metadata": {
    "collapsed": true
   },
   "outputs": [],
   "source": [
    "c2_vol=list(map(lambda x:max(temp[x].High)-min(temp[x].Low),range(len(temp))))"
   ]
  },
  {
   "cell_type": "code",
   "execution_count": null,
   "metadata": {
    "collapsed": true
   },
   "outputs": [],
   "source": [
    "c3_drawDown=list(map(lambda x:temp[x].loc[0].Open-temp[x].loc[21].Low,range(len(temp))))"
   ]
  },
  {
   "cell_type": "code",
   "execution_count": null,
   "metadata": {
    "collapsed": true
   },
   "outputs": [],
   "source": [
    "c4_drawUp=list(map(lambda x:temp[x].loc[0].Open-temp[x].loc[21].High,range(len(temp))))"
   ]
  },
  {
   "cell_type": "code",
   "execution_count": null,
   "metadata": {
    "collapsed": true
   },
   "outputs": [],
   "source": [
    "#direcciones \n",
    "data['c1_direction']=c1_direction\n",
    "data['c2_vol']=c2_vol\n",
    "data['c3_drawDown']=c3_drawDown\n",
    "data['c4_drawUp']=c4_drawUp\n"
   ]
  },
  {
   "cell_type": "code",
   "execution_count": null,
   "metadata": {
    "collapsed": true,
    "scrolled": true
   },
   "outputs": [],
   "source": [
    "#frecuancia de cada escenario\n",
    "po=[sum(data['a'])/len(data),\n",
    "sum(data['b'])/len(data),\n",
    "sum(data['c'])/len(data),\n",
    "sum(data['d'])/len(data)]\n"
   ]
  },
  {
   "cell_type": "code",
   "execution_count": null,
   "metadata": {
    "collapsed": true
   },
   "outputs": [],
   "source": [
    "tp=np.array([sum(data.loc[a.index]['c1_direction']>0)/sum(data['a']),\n",
    "sum(data.loc[b.index]['c1_direction']>0)/sum(data['b']),\n",
    "sum(data.loc[c.index]['c1_direction']>0)/sum(data['c']),\n",
    "sum(data.loc[d.index]['c1_direction']>0)/sum(data['d'])])"
   ]
  },
  {
   "cell_type": "code",
   "execution_count": null,
   "metadata": {
    "collapsed": true
   },
   "outputs": [],
   "source": [
    "tn=1-tp"
   ]
  },
  {
   "cell_type": "code",
   "execution_count": null,
   "metadata": {
    "collapsed": true
   },
   "outputs": [],
   "source": [
    "results=np.transpose(pd.DataFrame([tp,tn,po],columns=['a','b','c','d'],index=['direccion positiva','direccion negativa','porcentaje ocurrencia']))"
   ]
  },
  {
   "cell_type": "code",
   "execution_count": null,
   "metadata": {
    "collapsed": false
   },
   "outputs": [],
   "source": [
    "#los 4 escenarios finales\n",
    "results"
   ]
  },
  {
   "cell_type": "markdown",
   "metadata": {},
   "source": [
    "Los parámetros a optimizar son: take profit, stop loss, la ventana de tiempo para hacer la compra, la cantidad de títulos más optima es realizar la compra y venta con el total de titulos posibles, y el numero de eventos que se utilizaran a c  d, o solamente 1 o 2 o 3."
   ]
  },
  {
   "cell_type": "code",
   "execution_count": null,
   "metadata": {
    "collapsed": true
   },
   "outputs": [],
   "source": [
    "total=10000 \n",
    "trade=[]\n",
    "stop_loss=5 # de 1 a 1000\n",
    "take_profit=5 # de 1 a 1000\n",
    "momento_compra=11 # momento en que sale la noticia y eventos posteriores de 0 a 20\n",
    "n_eventos=1 #de 1 a 0\n",
    "\n",
    "\n",
    "# Esta parte se encarga de decirte en que posicion queda, si es que hay un cumplimiento del stop loss o take profit.\n",
    "for i in range(len(temp)):\n",
    "    \n",
    "    if (results.loc[data.iloc[i,7:11]]['direccion positiva']<=n_eventos)[0] and (results.loc[data.iloc[i,7:11]]['direccion positiva']>0)[0]:\n",
    "\n",
    "        #en temp estan todos los registros de datos almacenados de oanda\n",
    "        dolares_totales=np.trunc(total/temp[i].loc[0].Open)\n",
    "        monto_compra=dolares_totales*temp[i].loc[momento_compra].Open\n",
    "        total-=monto_compra\n",
    "        \n",
    "        if True in list(np.array(temp[i].iloc[momento_compra+1:,-1])-np.array(temp[i].loc[momento_compra].Open)<-stop_loss/10000):\n",
    "            stop_loss_position=np.where(np.array(temp[i].iloc[momento_compra+1:,-1])-np.array(temp[i].loc[momento_compra].Open)<-stop_loss/10000)[0][0]+momento_compra+1\n",
    "            stop_loss_profit=dolares_totales*temp[i].loc[stop_loss_position].Close\n",
    "        else:\n",
    "            stop_loss_position=None\n",
    "        if True in list(np.array(temp[i].iloc[momento_compra+1:,-1])-np.array(temp[i].loc[momento_compra].Open)>take_profit/10000):\n",
    "            take_profit_position=np.where(np.array(temp[i].iloc[momento_compra+1:,-1])-np.array(temp[i].loc[momento_compra].Open)>take_profit/10000)[0][0]+momento_compra+1\n",
    "            take_profit_profit=dolares_totales*temp[i].loc[take_profit_position].Close\n",
    "        else:\n",
    "            take_profit_position=None\n",
    "        \n",
    "        # En esta parte se evalua la parte de arriba, si sucedió el stop loss o take profit y en cual de los 4 casos posibles es el que sucedió.\n",
    "        \n",
    "        if not stop_loss_position==None and take_profit_position==None:\n",
    "            monto_venta=stop_loss_profit\n",
    "        elif not take_profit_position==None and stop_loss_position==None:\n",
    "            monto_venta=take_profit_profit\n",
    "        elif not take_profit_position==None and not stop_loss_position==None:\n",
    "            if take_profit_position<stop_loss_position:\n",
    "                monto_venta=take_profit_profit\n",
    "            else:\n",
    "                monto_venta=stop_loss_profit\n",
    "        else:\n",
    "            monto_venta=dolares_totales*temp[i].loc[21].Close\n",
    "        \n",
    "        \n",
    "        pL=monto_venta-monto_compra\n",
    "        total+=monto_venta\n",
    "        trade.append([dolares_totales,pL,total])\n",
    "    \n",
    "    else:\n",
    "        trade.append([0,0,total])\n",
    "# esto nos devuelve una lista de como se realizaron todos los trades de la cuenta y el balance final de esta"
   ]
  },
  {
   "cell_type": "code",
   "execution_count": null,
   "metadata": {
    "collapsed": true
   },
   "outputs": [],
   "source": [
    "# en esta parte comienza la optimización de los parámetros\n",
    "from scipy.optimize import Bounds\n",
    "from scipy.optimize import minimize"
   ]
  },
  {
   "cell_type": "code",
   "execution_count": null,
   "metadata": {
    "collapsed": true
   },
   "outputs": [],
   "source": [
    "# En esta parte del código se tiene todo lo de arriba pero hecha función para llamar los parámetros a optimizar.\n",
    "\n",
    "def trading(stop_loss,take_profit,momento_compra,n_eventos):\n",
    "    total=10000 \n",
    "    trade=[]\n",
    "    \n",
    "    # En este for recorre todos los eventos y checa en que estado estan a,b,c o d.\n",
    "    for i in range(len(temp)):\n",
    "        if (results.loc[data.iloc[i,7:11]]['direccion positiva']<=n_eventos)[0] and (results.loc[data.iloc[i,7:11]]['direccion positiva']>0)[0]:\n",
    "\n",
    "            dolares_totales=np.trunc(total/temp[i].loc[0].Open)\n",
    "            monto_compra=dolares_totales*temp[i].loc[momento_compra].Open\n",
    "            total-=monto_compra\n",
    "\n",
    "            if True in list(np.array(temp[i].iloc[momento_compra+1:,-1])-np.array(temp[i].loc[momento_compra].Open)<-stop_loss/10000):\n",
    "                stop_loss_position=np.where(np.array(temp[i].iloc[momento_compra+1:,-1])-np.array(temp[i].loc[momento_compra].Open)<-stop_loss/10000)[0][0]+momento_compra+1\n",
    "                stop_loss_profit=dolares_totales*temp[i].loc[stop_loss_position].Close\n",
    "            else:\n",
    "                stop_loss_position=None\n",
    "            if True in list(np.array(temp[i].iloc[momento_compra+1:,-1])-np.array(temp[i].loc[momento_compra].Open)>take_profit/10000):\n",
    "                take_profit_position=np.where(np.array(temp[i].iloc[momento_compra+1:,-1])-np.array(temp[i].loc[momento_compra].Open)>take_profit/10000)[0][0]+momento_compra+1\n",
    "                take_profit_profit=dolares_totales*temp[i].loc[take_profit_position].Close\n",
    "            else:\n",
    "                take_profit_position=None\n",
    "\n",
    "\n",
    "\n",
    "            if not stop_loss_position==None and take_profit_position==None:\n",
    "                monto_venta=stop_loss_profit\n",
    "            elif not take_profit_position==None and stop_loss_position==None:\n",
    "                monto_venta=take_profit_profit\n",
    "            elif not take_profit_position==None and not stop_loss_position==None:\n",
    "                if take_profit_position<stop_loss_position:\n",
    "                    monto_venta=take_profit_profit\n",
    "                else:\n",
    "                    monto_venta=stop_loss_profit\n",
    "            else:\n",
    "                monto_venta=dolares_totales*temp[i].loc[21].Close\n",
    "\n",
    "\n",
    "            pL=monto_venta-monto_compra\n",
    "            total+=monto_venta\n",
    "            trade.append([dolares_totales,pL,total])\n",
    "\n",
    "        else:\n",
    "            trade.append([0,0,total])\n",
    "    \n",
    "    trades=pd.DataFrame(trade,columns=['total quantity','P&L','Total'])\n",
    "    return trades.iloc[-1]['Total']\n",
    "\n",
    "# la función te regresa el total de lo que se generó en la cuenta ya con los parámetros optimizados(falta el pso)"
   ]
  },
  {
   "cell_type": "code",
   "execution_count": null,
   "metadata": {
    "collapsed": false
   },
   "outputs": [],
   "source": [
    "trading(500,500,11,1)"
   ]
  },
  {
   "cell_type": "code",
   "execution_count": null,
   "metadata": {
    "collapsed": true
   },
   "outputs": [],
   "source": []
  },
  {
   "cell_type": "code",
   "execution_count": null,
   "metadata": {
    "collapsed": true
   },
   "outputs": [],
   "source": []
  },
  {
   "cell_type": "code",
   "execution_count": null,
   "metadata": {
    "collapsed": true
   },
   "outputs": [],
   "source": []
  },
  {
   "cell_type": "code",
   "execution_count": null,
   "metadata": {
    "collapsed": true
   },
   "outputs": [],
   "source": []
  },
  {
   "cell_type": "code",
   "execution_count": null,
   "metadata": {
    "collapsed": false
   },
   "outputs": [],
   "source": [
    "tr"
   ]
  },
  {
   "cell_type": "code",
   "execution_count": null,
   "metadata": {
    "collapsed": true,
    "scrolled": true
   },
   "outputs": [],
   "source": []
  },
  {
   "cell_type": "code",
   "execution_count": null,
   "metadata": {
    "collapsed": true
   },
   "outputs": [],
   "source": []
  },
  {
   "cell_type": "code",
   "execution_count": null,
   "metadata": {
    "collapsed": true
   },
   "outputs": [],
   "source": []
  },
  {
   "cell_type": "code",
   "execution_count": null,
   "metadata": {
    "collapsed": true
   },
   "outputs": [],
   "source": []
  }
 ],
 "metadata": {
  "kernelspec": {
   "display_name": "Python [Anaconda3]",
   "language": "python",
   "name": "Python [Anaconda3]"
  },
  "language_info": {
   "codemirror_mode": {
    "name": "ipython",
    "version": 3
   },
   "file_extension": ".py",
   "mimetype": "text/x-python",
   "name": "python",
   "nbconvert_exporter": "python",
   "pygments_lexer": "ipython3",
   "version": "3.5.2"
  }
 },
 "nbformat": 4,
 "nbformat_minor": 2
}
