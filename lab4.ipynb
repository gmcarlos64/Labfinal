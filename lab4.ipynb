{
  "cells": [
    {
      "metadata": {
        "trusted": false
      },
      "cell_type": "code",
      "source": "%matplotlib inline\nimport pandas as pd\nimport numpy as np\nimport matplotlib.pyplot as plt\nfrom oandapyV20 import API\nimport oandapyV20.endpoints.instruments as instruments\nimport datetime",
      "execution_count": 21,
      "outputs": []
    },
    {
      "metadata": {
        "trusted": false
      },
      "cell_type": "code",
      "source": "def get_prices(date):\n    A1_OA_Da = 16                     # Day Align\n    A1_OA_Ta = \"America/Mexico_City\"  # Time Align\n    A1_OA_Ai = \"101-004-2221697-001\"  # Id de cuenta\n    A1_OA_At = \"practice\"             # Tipo de cuenta\n    A1_OA_In = \"USD_MXN\"              # Instrumento\n    A1_OA_Gn = \"M1\"                   # Granularidad de velas\n    A1_OA_Ak = '2' + '6b62ddbe404c61a1cc9da0ed8395945-52d44ef76c42b62460581783bba6c8e' + 'a'\n    ##obtener el spot\n    a=datetime.datetime.strptime(date,\"%m/%d/%Y %H:%M\")\n    today = a\n    DD = datetime.timedelta(minutes=11)\n    earlier = today - DD\n    later = today + DD\n    F1=later.strftime(\"%Y-%m-%dT%H:%M:%SZ\")\n    F2=earlier.strftime(\"%Y-%m-%dT%H:%M:%SZ\")\n    api = API(access_token=A1_OA_Ak)\n    params = {\"granularity\": A1_OA_Gn, \"price\": \"M\", \"dailyAlignment\": A1_OA_Da,\n              \"alignmentTimezone\": A1_OA_Ta, \"from\": F2, \"to\": F1}\n    A1_Req1 = instruments.InstrumentsCandles(instrument=A1_OA_In, params=params)\n    A1_Hist = api.request(A1_Req1)\n    a=list(map(lambda i:[A1_Hist['candles'][i]['time'],float(A1_Hist['candles'][i]['mid']['o']),float(A1_Hist['candles'][i]['mid']['h']),\n                          float(A1_Hist['candles'][i]['mid']['l']),float(A1_Hist['candles'][i]['mid']['c'])],range(len(A1_Hist['candles']))))\n    pd_hist = pd.DataFrame(a,columns=['TimeStamp','Open','High','Low','Close'])\n    pd_hist = pd_hist[['TimeStamp', 'Open', 'High', 'Low', 'Close']]\n    pd_hist['TimeStamp'] = pd.to_datetime(pd_hist['TimeStamp'])\n    \n    return pd_hist ",
      "execution_count": 181,
      "outputs": []
    },
    {
      "metadata": {
        "trusted": false
      },
      "cell_type": "code",
      "source": "data=pd.read_csv('data.csv')",
      "execution_count": 182,
      "outputs": []
    },
    {
      "metadata": {
        "trusted": false
      },
      "cell_type": "code",
      "source": "a=data.loc[[a and b for a,b in zip(data.Actual>=data.Consensus,data.Consensus>=data.Previous)]]\nb=data.loc[[a and b for a,b in zip(data.Actual>=data.Consensus,data.Consensus<data.Previous)]]\nc=data.loc[[a and b for a,b in zip(data.Actual<data.Consensus,data.Consensus>=data.Previous)]]\nd=data.loc[[a and b for a,b in zip(data.Actual<=data.Consensus,data.Consensus<data.Previous)]]\ndata['a']=[a and b for a,b in zip(data.Actual>=data.Consensus,data.Consensus>=data.Previous)]\ndata['b']=[a and b for a,b in zip(data.Actual>=data.Consensus,data.Consensus<data.Previous)]\ndata['c']=[a and b for a,b in zip(data.Actual<data.Consensus,data.Consensus>=data.Previous)]\ndata['d']=[a and b for a,b in zip(data.Actual<=data.Consensus,data.Consensus<data.Previous)]\n",
      "execution_count": 183,
      "outputs": []
    },
    {
      "metadata": {
        "trusted": false
      },
      "cell_type": "code",
      "source": "week_days=list(map(lambda x:datetime.datetime.weekday(datetime.datetime.strptime(data.DateTime[x],\"%m/%d/%Y %H:%M\")),range(len(data))))",
      "execution_count": 184,
      "outputs": []
    },
    {
      "metadata": {
        "trusted": false
      },
      "cell_type": "code",
      "source": "temp=list(map(lambda x:get_prices(data.DateTime[x]),range(len(data))))",
      "execution_count": 185,
      "outputs": []
    },
    {
      "metadata": {
        "trusted": false
      },
      "cell_type": "code",
      "source": "c1_direction=list(map(lambda x:temp[x].loc[21].Close-temp[x].loc[11].Open,range(len(temp))))",
      "execution_count": 298,
      "outputs": []
    },
    {
      "metadata": {
        "trusted": false
      },
      "cell_type": "code",
      "source": "c2_vol=list(map(lambda x:max(temp[x].High)-min(temp[x].Low),range(len(temp))))",
      "execution_count": 299,
      "outputs": []
    },
    {
      "metadata": {
        "trusted": false
      },
      "cell_type": "code",
      "source": "c3_drawDown=list(map(lambda x:temp[x].loc[0].Open-temp[x].loc[21].Low,range(len(temp))))",
      "execution_count": 300,
      "outputs": []
    },
    {
      "metadata": {
        "trusted": false
      },
      "cell_type": "code",
      "source": "c4_drawUp=list(map(lambda x:temp[x].loc[0].Open-temp[x].loc[21].High,range(len(temp))))",
      "execution_count": 301,
      "outputs": []
    },
    {
      "metadata": {
        "trusted": false
      },
      "cell_type": "code",
      "source": "data['c1_direction']=c1_direction\ndata['c2_vol']=c2_vol\ndata['c3_drawDown']=c3_drawDown\ndata['c4_drawUp']=c4_drawUp\n",
      "execution_count": 302,
      "outputs": []
    },
    {
      "metadata": {
        "scrolled": true,
        "trusted": false
      },
      "cell_type": "code",
      "source": "po=[sum(data['a'])/len(data),\nsum(data['b'])/len(data),\nsum(data['c'])/len(data),\nsum(data['d'])/len(data)]\n",
      "execution_count": 304,
      "outputs": []
    },
    {
      "metadata": {
        "trusted": false
      },
      "cell_type": "code",
      "source": "tp=np.array([sum(data.loc[a.index]['c1_direction']>0)/sum(data['a']),\nsum(data.loc[b.index]['c1_direction']>0)/sum(data['b']),\nsum(data.loc[c.index]['c1_direction']>0)/sum(data['c']),\nsum(data.loc[d.index]['c1_direction']>0)/sum(data['d'])])",
      "execution_count": 305,
      "outputs": []
    },
    {
      "metadata": {
        "trusted": false
      },
      "cell_type": "code",
      "source": "tn=1-tp",
      "execution_count": 306,
      "outputs": []
    },
    {
      "metadata": {
        "trusted": false
      },
      "cell_type": "code",
      "source": "results=np.transpose(pd.DataFrame([tp,tn,po],columns=['a','b','c','d'],index=['direccion positiva','direccion negativa','porcentaje ocurrencia']))",
      "execution_count": 307,
      "outputs": []
    },
    {
      "metadata": {
        "trusted": false
      },
      "cell_type": "code",
      "source": "results",
      "execution_count": 326,
      "outputs": [
        {
          "data": {
            "text/html": "<div>\n<style scoped>\n    .dataframe tbody tr th:only-of-type {\n        vertical-align: middle;\n    }\n\n    .dataframe tbody tr th {\n        vertical-align: top;\n    }\n\n    .dataframe thead th {\n        text-align: right;\n    }\n</style>\n<table border=\"1\" class=\"dataframe\">\n  <thead>\n    <tr style=\"text-align: right;\">\n      <th></th>\n      <th>direccion positiva</th>\n      <th>direccion negativa</th>\n      <th>porcentaje ocurrencia</th>\n    </tr>\n  </thead>\n  <tbody>\n    <tr>\n      <th>a</th>\n      <td>0.428571</td>\n      <td>0.571429</td>\n      <td>0.205882</td>\n    </tr>\n    <tr>\n      <th>b</th>\n      <td>0.000000</td>\n      <td>1.000000</td>\n      <td>0.029412</td>\n    </tr>\n    <tr>\n      <th>c</th>\n      <td>0.400000</td>\n      <td>0.600000</td>\n      <td>0.588235</td>\n    </tr>\n    <tr>\n      <th>d</th>\n      <td>1.000000</td>\n      <td>0.000000</td>\n      <td>0.176471</td>\n    </tr>\n  </tbody>\n</table>\n</div>",
            "text/plain": "   direccion positiva  direccion negativa  porcentaje ocurrencia\na            0.428571            0.571429               0.205882\nb            0.000000            1.000000               0.029412\nc            0.400000            0.600000               0.588235\nd            1.000000            0.000000               0.176471"
          },
          "execution_count": 326,
          "metadata": {},
          "output_type": "execute_result"
        }
      ]
    },
    {
      "metadata": {
        "trusted": true
      },
      "cell_type": "code",
      "source": "total=100000\ntrade=[]\nfor i in range(len(temp)):\n    if (results.loc[data.iloc[i,7:11]]['direccion positiva']==1)[0]:\n\n        dolares_totales=np.trunc(total/temp[i].loc[0].Open)\n        monto_compra=dolares_totales*temp[i].loc[11].Open\n        total-=monto_compra\n        monto_venta=dolares_totales*temp[i].loc[21].Close\n        pL=monto_venta-monto_compra\n        total+=monto_venta\n        trade.append([dolares_totales,pL,total])\n    else:\n        trade.append([0,0,total])\n",
      "execution_count": 1,
      "outputs": [
        {
          "output_type": "error",
          "ename": "NameError",
          "evalue": "name 'temp' is not defined",
          "traceback": [
            "\u001b[0;31m---------------------------------------------------------------------------\u001b[0m",
            "\u001b[0;31mNameError\u001b[0m                                 Traceback (most recent call last)",
            "\u001b[0;32m<ipython-input-1-91397c99f9cb>\u001b[0m in \u001b[0;36m<module>\u001b[0;34m()\u001b[0m\n\u001b[1;32m      1\u001b[0m \u001b[0mtotal\u001b[0m\u001b[0;34m=\u001b[0m\u001b[0;36m100000\u001b[0m\u001b[0;34m\u001b[0m\u001b[0m\n\u001b[1;32m      2\u001b[0m \u001b[0mtrade\u001b[0m\u001b[0;34m=\u001b[0m\u001b[0;34m[\u001b[0m\u001b[0;34m]\u001b[0m\u001b[0;34m\u001b[0m\u001b[0m\n\u001b[0;32m----> 3\u001b[0;31m \u001b[0;32mfor\u001b[0m \u001b[0mi\u001b[0m \u001b[0;32min\u001b[0m \u001b[0mrange\u001b[0m\u001b[0;34m(\u001b[0m\u001b[0mlen\u001b[0m\u001b[0;34m(\u001b[0m\u001b[0mtemp\u001b[0m\u001b[0;34m)\u001b[0m\u001b[0;34m)\u001b[0m\u001b[0;34m:\u001b[0m\u001b[0;34m\u001b[0m\u001b[0m\n\u001b[0m\u001b[1;32m      4\u001b[0m     \u001b[0;32mif\u001b[0m \u001b[0;34m(\u001b[0m\u001b[0mresults\u001b[0m\u001b[0;34m.\u001b[0m\u001b[0mloc\u001b[0m\u001b[0;34m[\u001b[0m\u001b[0mdata\u001b[0m\u001b[0;34m.\u001b[0m\u001b[0miloc\u001b[0m\u001b[0;34m[\u001b[0m\u001b[0mi\u001b[0m\u001b[0;34m,\u001b[0m\u001b[0;36m7\u001b[0m\u001b[0;34m:\u001b[0m\u001b[0;36m11\u001b[0m\u001b[0;34m]\u001b[0m\u001b[0;34m]\u001b[0m\u001b[0;34m[\u001b[0m\u001b[0;34m'direccion positiva'\u001b[0m\u001b[0;34m]\u001b[0m\u001b[0;34m==\u001b[0m\u001b[0;36m1\u001b[0m\u001b[0;34m)\u001b[0m\u001b[0;34m[\u001b[0m\u001b[0;36m0\u001b[0m\u001b[0;34m]\u001b[0m\u001b[0;34m:\u001b[0m\u001b[0;34m\u001b[0m\u001b[0m\n\u001b[1;32m      5\u001b[0m \u001b[0;34m\u001b[0m\u001b[0m\n",
            "\u001b[0;31mNameError\u001b[0m: name 'temp' is not defined"
          ]
        }
      ]
    },
    {
      "metadata": {
        "scrolled": true,
        "trusted": true
      },
      "cell_type": "code",
      "source": "trades=pd.DataFrame(trade,columns=['total quantity','P&L','Total'])\ntrades",
      "execution_count": 2,
      "outputs": [
        {
          "output_type": "error",
          "ename": "NameError",
          "evalue": "name 'pd' is not defined",
          "traceback": [
            "\u001b[0;31m---------------------------------------------------------------------------\u001b[0m",
            "\u001b[0;31mNameError\u001b[0m                                 Traceback (most recent call last)",
            "\u001b[0;32m<ipython-input-2-5bc325532697>\u001b[0m in \u001b[0;36m<module>\u001b[0;34m()\u001b[0m\n\u001b[0;32m----> 1\u001b[0;31m \u001b[0mtrades\u001b[0m\u001b[0;34m=\u001b[0m\u001b[0mpd\u001b[0m\u001b[0;34m.\u001b[0m\u001b[0mDataFrame\u001b[0m\u001b[0;34m(\u001b[0m\u001b[0mtrade\u001b[0m\u001b[0;34m,\u001b[0m\u001b[0mcolumns\u001b[0m\u001b[0;34m=\u001b[0m\u001b[0;34m[\u001b[0m\u001b[0;34m'total quantity'\u001b[0m\u001b[0;34m,\u001b[0m\u001b[0;34m'P&L'\u001b[0m\u001b[0;34m,\u001b[0m\u001b[0;34m'Total'\u001b[0m\u001b[0;34m]\u001b[0m\u001b[0;34m)\u001b[0m\u001b[0;34m\u001b[0m\u001b[0m\n\u001b[0m\u001b[1;32m      2\u001b[0m \u001b[0mtrades\u001b[0m\u001b[0;34m\u001b[0m\u001b[0m\n",
            "\u001b[0;31mNameError\u001b[0m: name 'pd' is not defined"
          ]
        }
      ]
    },
    {
      "metadata": {
        "trusted": false
      },
      "cell_type": "code",
      "source": "data=data.join(trades)",
      "execution_count": 324,
      "outputs": []
    },
    {
      "metadata": {
        "trusted": false
      },
      "cell_type": "code",
      "source": "data",
      "execution_count": 325,
      "outputs": [
        {
          "data": {
            "text/html": "<div>\n<style scoped>\n    .dataframe tbody tr th:only-of-type {\n        vertical-align: middle;\n    }\n\n    .dataframe tbody tr th {\n        vertical-align: top;\n    }\n\n    .dataframe thead th {\n        text-align: right;\n    }\n</style>\n<table border=\"1\" class=\"dataframe\">\n  <thead>\n    <tr style=\"text-align: right;\">\n      <th></th>\n      <th>DateTime</th>\n      <th>Name</th>\n      <th>Country</th>\n      <th>Volatility</th>\n      <th>Actual</th>\n      <th>Previous</th>\n      <th>Consensus</th>\n      <th>a</th>\n      <th>b</th>\n      <th>c</th>\n      <th>d</th>\n      <th>c1_direction</th>\n      <th>c2_vol</th>\n      <th>c3_drawDown</th>\n      <th>c4_drawUp</th>\n      <th>total quantity</th>\n      <th>P&amp;L</th>\n      <th>Total</th>\n    </tr>\n  </thead>\n  <tbody>\n    <tr>\n      <th>0</th>\n      <td>01/04/2016 15:00</td>\n      <td>Construction Spending (MoM)</td>\n      <td>United States</td>\n      <td>3</td>\n      <td>-0.4</td>\n      <td>1.0</td>\n      <td>0.6</td>\n      <td>False</td>\n      <td>False</td>\n      <td>False</td>\n      <td>True</td>\n      <td>0.00806</td>\n      <td>0.04112</td>\n      <td>-0.01069</td>\n      <td>-0.01420</td>\n      <td>577.0</td>\n      <td>4.65062</td>\n      <td>10004.65062</td>\n    </tr>\n    <tr>\n      <th>1</th>\n      <td>02/01/2016 15:00</td>\n      <td>Construction Spending (MoM)</td>\n      <td>United States</td>\n      <td>3</td>\n      <td>0.1</td>\n      <td>-0.4</td>\n      <td>0.6</td>\n      <td>False</td>\n      <td>False</td>\n      <td>True</td>\n      <td>False</td>\n      <td>0.00123</td>\n      <td>0.07737</td>\n      <td>-0.00106</td>\n      <td>-0.01585</td>\n      <td>0.0</td>\n      <td>0.00000</td>\n      <td>10004.65062</td>\n    </tr>\n    <tr>\n      <th>2</th>\n      <td>03/01/2016 15:00</td>\n      <td>Construction Spending (MoM)</td>\n      <td>United States</td>\n      <td>3</td>\n      <td>1.5</td>\n      <td>0.1</td>\n      <td>0.4</td>\n      <td>True</td>\n      <td>False</td>\n      <td>False</td>\n      <td>False</td>\n      <td>0.00240</td>\n      <td>0.04593</td>\n      <td>0.01820</td>\n      <td>0.00841</td>\n      <td>0.0</td>\n      <td>0.00000</td>\n      <td>10004.65062</td>\n    </tr>\n    <tr>\n      <th>3</th>\n      <td>04/01/2016 14:00</td>\n      <td>Construction Spending (MoM)</td>\n      <td>United States</td>\n      <td>3</td>\n      <td>-0.5</td>\n      <td>1.5</td>\n      <td>0.1</td>\n      <td>False</td>\n      <td>False</td>\n      <td>False</td>\n      <td>True</td>\n      <td>0.03148</td>\n      <td>0.05745</td>\n      <td>-0.03458</td>\n      <td>-0.03996</td>\n      <td>573.0</td>\n      <td>18.03804</td>\n      <td>10022.68866</td>\n    </tr>\n    <tr>\n      <th>4</th>\n      <td>05/02/2016 14:00</td>\n      <td>Construction Spending (MoM)</td>\n      <td>United States</td>\n      <td>3</td>\n      <td>0.3</td>\n      <td>-0.5</td>\n      <td>0.5</td>\n      <td>False</td>\n      <td>False</td>\n      <td>True</td>\n      <td>False</td>\n      <td>0.04768</td>\n      <td>0.05671</td>\n      <td>-0.02342</td>\n      <td>-0.04886</td>\n      <td>0.0</td>\n      <td>0.00000</td>\n      <td>10022.68866</td>\n    </tr>\n    <tr>\n      <th>5</th>\n      <td>06/01/2016 14:00</td>\n      <td>Construction Spending (MoM)</td>\n      <td>United States</td>\n      <td>3</td>\n      <td>-1.8</td>\n      <td>0.3</td>\n      <td>0.6</td>\n      <td>False</td>\n      <td>False</td>\n      <td>True</td>\n      <td>False</td>\n      <td>-0.02625</td>\n      <td>0.06598</td>\n      <td>0.03456</td>\n      <td>0.01816</td>\n      <td>0.0</td>\n      <td>0.00000</td>\n      <td>10022.68866</td>\n    </tr>\n    <tr>\n      <th>6</th>\n      <td>07/01/2016 14:00</td>\n      <td>Construction Spending (MoM)</td>\n      <td>United States</td>\n      <td>3</td>\n      <td>-0.8</td>\n      <td>-1.8</td>\n      <td>0.6</td>\n      <td>False</td>\n      <td>False</td>\n      <td>True</td>\n      <td>False</td>\n      <td>0.04604</td>\n      <td>0.06099</td>\n      <td>-0.04246</td>\n      <td>-0.05259</td>\n      <td>0.0</td>\n      <td>0.00000</td>\n      <td>10022.68866</td>\n    </tr>\n    <tr>\n      <th>7</th>\n      <td>08/01/2016 14:00</td>\n      <td>Construction Spending (MoM)</td>\n      <td>United States</td>\n      <td>3</td>\n      <td>-0.6</td>\n      <td>-0.8</td>\n      <td>0.5</td>\n      <td>False</td>\n      <td>False</td>\n      <td>True</td>\n      <td>False</td>\n      <td>0.01524</td>\n      <td>0.03755</td>\n      <td>0.01040</td>\n      <td>0.00482</td>\n      <td>0.0</td>\n      <td>0.00000</td>\n      <td>10022.68866</td>\n    </tr>\n    <tr>\n      <th>8</th>\n      <td>09/01/2016 14:00</td>\n      <td>Construction Spending (MoM)</td>\n      <td>United States</td>\n      <td>3</td>\n      <td>0.0</td>\n      <td>-0.6</td>\n      <td>0.5</td>\n      <td>False</td>\n      <td>False</td>\n      <td>True</td>\n      <td>False</td>\n      <td>-0.04484</td>\n      <td>0.09527</td>\n      <td>0.05431</td>\n      <td>0.04266</td>\n      <td>0.0</td>\n      <td>0.00000</td>\n      <td>10022.68866</td>\n    </tr>\n    <tr>\n      <th>9</th>\n      <td>10/03/2016 14:00</td>\n      <td>Construction Spending (MoM)</td>\n      <td>United States</td>\n      <td>3</td>\n      <td>-0.7</td>\n      <td>0.0</td>\n      <td>0.2</td>\n      <td>False</td>\n      <td>False</td>\n      <td>True</td>\n      <td>False</td>\n      <td>0.01884</td>\n      <td>0.03898</td>\n      <td>-0.01702</td>\n      <td>-0.02484</td>\n      <td>0.0</td>\n      <td>0.00000</td>\n      <td>10022.68866</td>\n    </tr>\n    <tr>\n      <th>10</th>\n      <td>11/01/2016 14:00</td>\n      <td>Construction Spending (MoM)</td>\n      <td>United States</td>\n      <td>3</td>\n      <td>-0.4</td>\n      <td>-0.7</td>\n      <td>0.5</td>\n      <td>False</td>\n      <td>False</td>\n      <td>True</td>\n      <td>False</td>\n      <td>0.02766</td>\n      <td>0.04318</td>\n      <td>-0.02408</td>\n      <td>-0.03211</td>\n      <td>0.0</td>\n      <td>0.00000</td>\n      <td>10022.68866</td>\n    </tr>\n    <tr>\n      <th>11</th>\n      <td>12/01/2016 15:00</td>\n      <td>Construction Spending (MoM)</td>\n      <td>United States</td>\n      <td>3</td>\n      <td>0.5</td>\n      <td>-0.4</td>\n      <td>0.5</td>\n      <td>True</td>\n      <td>False</td>\n      <td>False</td>\n      <td>False</td>\n      <td>-0.03974</td>\n      <td>0.05659</td>\n      <td>0.00590</td>\n      <td>-0.00835</td>\n      <td>0.0</td>\n      <td>0.00000</td>\n      <td>10022.68866</td>\n    </tr>\n    <tr>\n      <th>12</th>\n      <td>01/03/2017 15:00</td>\n      <td>Construction Spending (MoM)</td>\n      <td>United States</td>\n      <td>3</td>\n      <td>0.9</td>\n      <td>0.5</td>\n      <td>0.5</td>\n      <td>True</td>\n      <td>False</td>\n      <td>False</td>\n      <td>False</td>\n      <td>0.02440</td>\n      <td>0.05151</td>\n      <td>-0.00954</td>\n      <td>-0.02162</td>\n      <td>0.0</td>\n      <td>0.00000</td>\n      <td>10022.68866</td>\n    </tr>\n    <tr>\n      <th>13</th>\n      <td>02/01/2017 15:00</td>\n      <td>Construction Spending (MoM)</td>\n      <td>United States</td>\n      <td>3</td>\n      <td>-0.2</td>\n      <td>0.9</td>\n      <td>0.2</td>\n      <td>False</td>\n      <td>False</td>\n      <td>False</td>\n      <td>True</td>\n      <td>0.01685</td>\n      <td>0.05597</td>\n      <td>-0.03282</td>\n      <td>-0.03944</td>\n      <td>483.0</td>\n      <td>8.13855</td>\n      <td>10030.82721</td>\n    </tr>\n    <tr>\n      <th>14</th>\n      <td>03/01/2017 15:00</td>\n      <td>Construction Spending (MoM)</td>\n      <td>United States</td>\n      <td>3</td>\n      <td>-1.0</td>\n      <td>-0.2</td>\n      <td>0.6</td>\n      <td>False</td>\n      <td>False</td>\n      <td>True</td>\n      <td>False</td>\n      <td>-0.00182</td>\n      <td>0.04709</td>\n      <td>0.00118</td>\n      <td>-0.00466</td>\n      <td>0.0</td>\n      <td>0.00000</td>\n      <td>10030.82721</td>\n    </tr>\n    <tr>\n      <th>15</th>\n      <td>04/03/2017 14:00</td>\n      <td>Construction Spending (MoM)</td>\n      <td>United States</td>\n      <td>3</td>\n      <td>0.8</td>\n      <td>-1.0</td>\n      <td>1.0</td>\n      <td>False</td>\n      <td>False</td>\n      <td>True</td>\n      <td>False</td>\n      <td>0.02386</td>\n      <td>0.04972</td>\n      <td>-0.03299</td>\n      <td>-0.04042</td>\n      <td>0.0</td>\n      <td>0.00000</td>\n      <td>10030.82721</td>\n    </tr>\n    <tr>\n      <th>16</th>\n      <td>05/01/2017 14:00</td>\n      <td>Construction Spending (MoM)</td>\n      <td>United States</td>\n      <td>3</td>\n      <td>-0.2</td>\n      <td>0.8</td>\n      <td>0.4</td>\n      <td>False</td>\n      <td>False</td>\n      <td>False</td>\n      <td>True</td>\n      <td>0.00082</td>\n      <td>0.02414</td>\n      <td>-0.00450</td>\n      <td>-0.00695</td>\n      <td>532.0</td>\n      <td>0.43624</td>\n      <td>10031.26345</td>\n    </tr>\n    <tr>\n      <th>17</th>\n      <td>06/01/2017 14:00</td>\n      <td>Construction Spending (MoM)</td>\n      <td>United States</td>\n      <td>3</td>\n      <td>-1.4</td>\n      <td>-0.2</td>\n      <td>0.5</td>\n      <td>False</td>\n      <td>False</td>\n      <td>True</td>\n      <td>False</td>\n      <td>-0.01232</td>\n      <td>0.03767</td>\n      <td>0.01974</td>\n      <td>0.01180</td>\n      <td>0.0</td>\n      <td>0.00000</td>\n      <td>10031.26345</td>\n    </tr>\n    <tr>\n      <th>18</th>\n      <td>07/03/2017 14:00</td>\n      <td>Construction Spending (MoM)</td>\n      <td>United States</td>\n      <td>3</td>\n      <td>0.0</td>\n      <td>-1.4</td>\n      <td>0.3</td>\n      <td>False</td>\n      <td>False</td>\n      <td>True</td>\n      <td>False</td>\n      <td>-0.00470</td>\n      <td>0.02662</td>\n      <td>0.00693</td>\n      <td>0.00229</td>\n      <td>0.0</td>\n      <td>0.00000</td>\n      <td>10031.26345</td>\n    </tr>\n    <tr>\n      <th>19</th>\n      <td>08/01/2017 14:00</td>\n      <td>Construction Spending (MoM)</td>\n      <td>United States</td>\n      <td>3</td>\n      <td>-1.3</td>\n      <td>0.0</td>\n      <td>0.4</td>\n      <td>False</td>\n      <td>False</td>\n      <td>True</td>\n      <td>False</td>\n      <td>-0.00927</td>\n      <td>0.03272</td>\n      <td>0.01618</td>\n      <td>0.01131</td>\n      <td>0.0</td>\n      <td>0.00000</td>\n      <td>10031.26345</td>\n    </tr>\n    <tr>\n      <th>20</th>\n      <td>09/01/2017 14:00</td>\n      <td>Construction Spending (MoM)</td>\n      <td>United States</td>\n      <td>3</td>\n      <td>-0.6</td>\n      <td>-1.3</td>\n      <td>0.5</td>\n      <td>False</td>\n      <td>False</td>\n      <td>True</td>\n      <td>False</td>\n      <td>-0.02052</td>\n      <td>0.03210</td>\n      <td>0.02231</td>\n      <td>0.01497</td>\n      <td>0.0</td>\n      <td>0.00000</td>\n      <td>10031.26345</td>\n    </tr>\n    <tr>\n      <th>21</th>\n      <td>10/02/2017 14:00</td>\n      <td>Construction Spending (MoM)</td>\n      <td>United States</td>\n      <td>3</td>\n      <td>0.5</td>\n      <td>-0.6</td>\n      <td>0.4</td>\n      <td>True</td>\n      <td>False</td>\n      <td>False</td>\n      <td>False</td>\n      <td>-0.00984</td>\n      <td>0.04934</td>\n      <td>0.01450</td>\n      <td>0.00709</td>\n      <td>0.0</td>\n      <td>0.00000</td>\n      <td>10031.26345</td>\n    </tr>\n    <tr>\n      <th>22</th>\n      <td>11/01/2017 14:00</td>\n      <td>Construction Spending (MoM)</td>\n      <td>United States</td>\n      <td>3</td>\n      <td>0.3</td>\n      <td>0.5</td>\n      <td>0.0</td>\n      <td>False</td>\n      <td>True</td>\n      <td>False</td>\n      <td>False</td>\n      <td>-0.06430</td>\n      <td>0.08665</td>\n      <td>0.08111</td>\n      <td>0.06554</td>\n      <td>0.0</td>\n      <td>0.00000</td>\n      <td>10031.26345</td>\n    </tr>\n    <tr>\n      <th>23</th>\n      <td>12/01/2017 15:00</td>\n      <td>Construction Spending (MoM)</td>\n      <td>United States</td>\n      <td>3</td>\n      <td>1.4</td>\n      <td>0.3</td>\n      <td>0.5</td>\n      <td>True</td>\n      <td>False</td>\n      <td>False</td>\n      <td>False</td>\n      <td>-0.02570</td>\n      <td>0.03927</td>\n      <td>0.00043</td>\n      <td>-0.00587</td>\n      <td>0.0</td>\n      <td>0.00000</td>\n      <td>10031.26345</td>\n    </tr>\n    <tr>\n      <th>24</th>\n      <td>01/03/2017 15:00</td>\n      <td>Construction Spending (MoM)</td>\n      <td>United States</td>\n      <td>3</td>\n      <td>0.9</td>\n      <td>0.5</td>\n      <td>0.5</td>\n      <td>True</td>\n      <td>False</td>\n      <td>False</td>\n      <td>False</td>\n      <td>0.02440</td>\n      <td>0.05151</td>\n      <td>-0.00954</td>\n      <td>-0.02162</td>\n      <td>0.0</td>\n      <td>0.00000</td>\n      <td>10031.26345</td>\n    </tr>\n    <tr>\n      <th>25</th>\n      <td>02/01/2017 15:00</td>\n      <td>Construction Spending (MoM)</td>\n      <td>United States</td>\n      <td>3</td>\n      <td>-0.2</td>\n      <td>0.9</td>\n      <td>0.2</td>\n      <td>False</td>\n      <td>False</td>\n      <td>False</td>\n      <td>True</td>\n      <td>0.01685</td>\n      <td>0.05597</td>\n      <td>-0.03282</td>\n      <td>-0.03944</td>\n      <td>483.0</td>\n      <td>8.13855</td>\n      <td>10039.40200</td>\n    </tr>\n    <tr>\n      <th>26</th>\n      <td>03/01/2017 15:00</td>\n      <td>Construction Spending (MoM)</td>\n      <td>United States</td>\n      <td>3</td>\n      <td>-1.0</td>\n      <td>-0.2</td>\n      <td>0.6</td>\n      <td>False</td>\n      <td>False</td>\n      <td>True</td>\n      <td>False</td>\n      <td>-0.00182</td>\n      <td>0.04709</td>\n      <td>0.00118</td>\n      <td>-0.00466</td>\n      <td>0.0</td>\n      <td>0.00000</td>\n      <td>10039.40200</td>\n    </tr>\n    <tr>\n      <th>27</th>\n      <td>04/03/2017 14:00</td>\n      <td>Construction Spending (MoM)</td>\n      <td>United States</td>\n      <td>3</td>\n      <td>0.8</td>\n      <td>-1.0</td>\n      <td>1.0</td>\n      <td>False</td>\n      <td>False</td>\n      <td>True</td>\n      <td>False</td>\n      <td>0.02386</td>\n      <td>0.04972</td>\n      <td>-0.03299</td>\n      <td>-0.04042</td>\n      <td>0.0</td>\n      <td>0.00000</td>\n      <td>10039.40200</td>\n    </tr>\n    <tr>\n      <th>28</th>\n      <td>05/01/2017 14:00</td>\n      <td>Construction Spending (MoM)</td>\n      <td>United States</td>\n      <td>3</td>\n      <td>-0.2</td>\n      <td>0.8</td>\n      <td>0.4</td>\n      <td>False</td>\n      <td>False</td>\n      <td>False</td>\n      <td>True</td>\n      <td>0.00082</td>\n      <td>0.02414</td>\n      <td>-0.00450</td>\n      <td>-0.00695</td>\n      <td>533.0</td>\n      <td>0.43706</td>\n      <td>10039.83906</td>\n    </tr>\n    <tr>\n      <th>29</th>\n      <td>06/01/2017 14:00</td>\n      <td>Construction Spending (MoM)</td>\n      <td>United States</td>\n      <td>3</td>\n      <td>-1.4</td>\n      <td>-0.2</td>\n      <td>0.5</td>\n      <td>False</td>\n      <td>False</td>\n      <td>True</td>\n      <td>False</td>\n      <td>-0.01232</td>\n      <td>0.03767</td>\n      <td>0.01974</td>\n      <td>0.01180</td>\n      <td>0.0</td>\n      <td>0.00000</td>\n      <td>10039.83906</td>\n    </tr>\n    <tr>\n      <th>30</th>\n      <td>07/03/2017 14:00</td>\n      <td>Construction Spending (MoM)</td>\n      <td>United States</td>\n      <td>3</td>\n      <td>0.0</td>\n      <td>-1.4</td>\n      <td>0.3</td>\n      <td>False</td>\n      <td>False</td>\n      <td>True</td>\n      <td>False</td>\n      <td>-0.00470</td>\n      <td>0.02662</td>\n      <td>0.00693</td>\n      <td>0.00229</td>\n      <td>0.0</td>\n      <td>0.00000</td>\n      <td>10039.83906</td>\n    </tr>\n    <tr>\n      <th>31</th>\n      <td>08/01/2017 14:00</td>\n      <td>Construction Spending (MoM)</td>\n      <td>United States</td>\n      <td>3</td>\n      <td>-1.3</td>\n      <td>0.0</td>\n      <td>0.4</td>\n      <td>False</td>\n      <td>False</td>\n      <td>True</td>\n      <td>False</td>\n      <td>-0.00927</td>\n      <td>0.03272</td>\n      <td>0.01618</td>\n      <td>0.01131</td>\n      <td>0.0</td>\n      <td>0.00000</td>\n      <td>10039.83906</td>\n    </tr>\n    <tr>\n      <th>32</th>\n      <td>09/01/2017 14:00</td>\n      <td>Construction Spending (MoM)</td>\n      <td>United States</td>\n      <td>3</td>\n      <td>-0.6</td>\n      <td>-1.3</td>\n      <td>0.5</td>\n      <td>False</td>\n      <td>False</td>\n      <td>True</td>\n      <td>False</td>\n      <td>-0.02052</td>\n      <td>0.03210</td>\n      <td>0.02231</td>\n      <td>0.01497</td>\n      <td>0.0</td>\n      <td>0.00000</td>\n      <td>10039.83906</td>\n    </tr>\n    <tr>\n      <th>33</th>\n      <td>10/02/2017 14:00</td>\n      <td>Construction Spending (MoM)</td>\n      <td>United States</td>\n      <td>3</td>\n      <td>0.5</td>\n      <td>-0.6</td>\n      <td>0.4</td>\n      <td>True</td>\n      <td>False</td>\n      <td>False</td>\n      <td>False</td>\n      <td>-0.00984</td>\n      <td>0.04934</td>\n      <td>0.01450</td>\n      <td>0.00709</td>\n      <td>0.0</td>\n      <td>0.00000</td>\n      <td>10039.83906</td>\n    </tr>\n  </tbody>\n</table>\n</div>",
            "text/plain": "            DateTime                         Name        Country  Volatility  \\\n0   01/04/2016 15:00  Construction Spending (MoM)  United States           3   \n1   02/01/2016 15:00  Construction Spending (MoM)  United States           3   \n2   03/01/2016 15:00  Construction Spending (MoM)  United States           3   \n3   04/01/2016 14:00  Construction Spending (MoM)  United States           3   \n4   05/02/2016 14:00  Construction Spending (MoM)  United States           3   \n5   06/01/2016 14:00  Construction Spending (MoM)  United States           3   \n6   07/01/2016 14:00  Construction Spending (MoM)  United States           3   \n7   08/01/2016 14:00  Construction Spending (MoM)  United States           3   \n8   09/01/2016 14:00  Construction Spending (MoM)  United States           3   \n9   10/03/2016 14:00  Construction Spending (MoM)  United States           3   \n10  11/01/2016 14:00  Construction Spending (MoM)  United States           3   \n11  12/01/2016 15:00  Construction Spending (MoM)  United States           3   \n12  01/03/2017 15:00  Construction Spending (MoM)  United States           3   \n13  02/01/2017 15:00  Construction Spending (MoM)  United States           3   \n14  03/01/2017 15:00  Construction Spending (MoM)  United States           3   \n15  04/03/2017 14:00  Construction Spending (MoM)  United States           3   \n16  05/01/2017 14:00  Construction Spending (MoM)  United States           3   \n17  06/01/2017 14:00  Construction Spending (MoM)  United States           3   \n18  07/03/2017 14:00  Construction Spending (MoM)  United States           3   \n19  08/01/2017 14:00  Construction Spending (MoM)  United States           3   \n20  09/01/2017 14:00  Construction Spending (MoM)  United States           3   \n21  10/02/2017 14:00  Construction Spending (MoM)  United States           3   \n22  11/01/2017 14:00  Construction Spending (MoM)  United States           3   \n23  12/01/2017 15:00  Construction Spending (MoM)  United States           3   \n24  01/03/2017 15:00  Construction Spending (MoM)  United States           3   \n25  02/01/2017 15:00  Construction Spending (MoM)  United States           3   \n26  03/01/2017 15:00  Construction Spending (MoM)  United States           3   \n27  04/03/2017 14:00  Construction Spending (MoM)  United States           3   \n28  05/01/2017 14:00  Construction Spending (MoM)  United States           3   \n29  06/01/2017 14:00  Construction Spending (MoM)  United States           3   \n30  07/03/2017 14:00  Construction Spending (MoM)  United States           3   \n31  08/01/2017 14:00  Construction Spending (MoM)  United States           3   \n32  09/01/2017 14:00  Construction Spending (MoM)  United States           3   \n33  10/02/2017 14:00  Construction Spending (MoM)  United States           3   \n\n    Actual  Previous  Consensus      a      b      c      d  c1_direction  \\\n0     -0.4       1.0        0.6  False  False  False   True       0.00806   \n1      0.1      -0.4        0.6  False  False   True  False       0.00123   \n2      1.5       0.1        0.4   True  False  False  False       0.00240   \n3     -0.5       1.5        0.1  False  False  False   True       0.03148   \n4      0.3      -0.5        0.5  False  False   True  False       0.04768   \n5     -1.8       0.3        0.6  False  False   True  False      -0.02625   \n6     -0.8      -1.8        0.6  False  False   True  False       0.04604   \n7     -0.6      -0.8        0.5  False  False   True  False       0.01524   \n8      0.0      -0.6        0.5  False  False   True  False      -0.04484   \n9     -0.7       0.0        0.2  False  False   True  False       0.01884   \n10    -0.4      -0.7        0.5  False  False   True  False       0.02766   \n11     0.5      -0.4        0.5   True  False  False  False      -0.03974   \n12     0.9       0.5        0.5   True  False  False  False       0.02440   \n13    -0.2       0.9        0.2  False  False  False   True       0.01685   \n14    -1.0      -0.2        0.6  False  False   True  False      -0.00182   \n15     0.8      -1.0        1.0  False  False   True  False       0.02386   \n16    -0.2       0.8        0.4  False  False  False   True       0.00082   \n17    -1.4      -0.2        0.5  False  False   True  False      -0.01232   \n18     0.0      -1.4        0.3  False  False   True  False      -0.00470   \n19    -1.3       0.0        0.4  False  False   True  False      -0.00927   \n20    -0.6      -1.3        0.5  False  False   True  False      -0.02052   \n21     0.5      -0.6        0.4   True  False  False  False      -0.00984   \n22     0.3       0.5        0.0  False   True  False  False      -0.06430   \n23     1.4       0.3        0.5   True  False  False  False      -0.02570   \n24     0.9       0.5        0.5   True  False  False  False       0.02440   \n25    -0.2       0.9        0.2  False  False  False   True       0.01685   \n26    -1.0      -0.2        0.6  False  False   True  False      -0.00182   \n27     0.8      -1.0        1.0  False  False   True  False       0.02386   \n28    -0.2       0.8        0.4  False  False  False   True       0.00082   \n29    -1.4      -0.2        0.5  False  False   True  False      -0.01232   \n30     0.0      -1.4        0.3  False  False   True  False      -0.00470   \n31    -1.3       0.0        0.4  False  False   True  False      -0.00927   \n32    -0.6      -1.3        0.5  False  False   True  False      -0.02052   \n33     0.5      -0.6        0.4   True  False  False  False      -0.00984   \n\n     c2_vol  c3_drawDown  c4_drawUp  total quantity       P&L        Total  \n0   0.04112     -0.01069   -0.01420           577.0   4.65062  10004.65062  \n1   0.07737     -0.00106   -0.01585             0.0   0.00000  10004.65062  \n2   0.04593      0.01820    0.00841             0.0   0.00000  10004.65062  \n3   0.05745     -0.03458   -0.03996           573.0  18.03804  10022.68866  \n4   0.05671     -0.02342   -0.04886             0.0   0.00000  10022.68866  \n5   0.06598      0.03456    0.01816             0.0   0.00000  10022.68866  \n6   0.06099     -0.04246   -0.05259             0.0   0.00000  10022.68866  \n7   0.03755      0.01040    0.00482             0.0   0.00000  10022.68866  \n8   0.09527      0.05431    0.04266             0.0   0.00000  10022.68866  \n9   0.03898     -0.01702   -0.02484             0.0   0.00000  10022.68866  \n10  0.04318     -0.02408   -0.03211             0.0   0.00000  10022.68866  \n11  0.05659      0.00590   -0.00835             0.0   0.00000  10022.68866  \n12  0.05151     -0.00954   -0.02162             0.0   0.00000  10022.68866  \n13  0.05597     -0.03282   -0.03944           483.0   8.13855  10030.82721  \n14  0.04709      0.00118   -0.00466             0.0   0.00000  10030.82721  \n15  0.04972     -0.03299   -0.04042             0.0   0.00000  10030.82721  \n16  0.02414     -0.00450   -0.00695           532.0   0.43624  10031.26345  \n17  0.03767      0.01974    0.01180             0.0   0.00000  10031.26345  \n18  0.02662      0.00693    0.00229             0.0   0.00000  10031.26345  \n19  0.03272      0.01618    0.01131             0.0   0.00000  10031.26345  \n20  0.03210      0.02231    0.01497             0.0   0.00000  10031.26345  \n21  0.04934      0.01450    0.00709             0.0   0.00000  10031.26345  \n22  0.08665      0.08111    0.06554             0.0   0.00000  10031.26345  \n23  0.03927      0.00043   -0.00587             0.0   0.00000  10031.26345  \n24  0.05151     -0.00954   -0.02162             0.0   0.00000  10031.26345  \n25  0.05597     -0.03282   -0.03944           483.0   8.13855  10039.40200  \n26  0.04709      0.00118   -0.00466             0.0   0.00000  10039.40200  \n27  0.04972     -0.03299   -0.04042             0.0   0.00000  10039.40200  \n28  0.02414     -0.00450   -0.00695           533.0   0.43706  10039.83906  \n29  0.03767      0.01974    0.01180             0.0   0.00000  10039.83906  \n30  0.02662      0.00693    0.00229             0.0   0.00000  10039.83906  \n31  0.03272      0.01618    0.01131             0.0   0.00000  10039.83906  \n32  0.03210      0.02231    0.01497             0.0   0.00000  10039.83906  \n33  0.04934      0.01450    0.00709             0.0   0.00000  10039.83906  "
          },
          "execution_count": 325,
          "metadata": {},
          "output_type": "execute_result"
        }
      ]
    },
    {
      "metadata": {
        "trusted": false
      },
      "cell_type": "code",
      "source": "",
      "execution_count": null,
      "outputs": []
    }
  ],
  "metadata": {
    "kernelspec": {
      "name": "python3",
      "display_name": "Python 3",
      "language": "python"
    },
    "language_info": {
      "mimetype": "text/x-python",
      "nbconvert_exporter": "python",
      "name": "python",
      "pygments_lexer": "ipython3",
      "version": "3.5.4",
      "file_extension": ".py",
      "codemirror_mode": {
        "version": 3,
        "name": "ipython"
      }
    }
  },
  "nbformat": 4,
  "nbformat_minor": 2
}
